{
 "cells": [
  {
   "cell_type": "code",
   "execution_count": 36,
   "metadata": {},
   "outputs": [],
   "source": [
    "import numpy as np\n",
    "import matplotlib.pyplot as plt\n",
    "import random"
   ]
  },
  {
   "cell_type": "code",
   "execution_count": 4,
   "metadata": {},
   "outputs": [],
   "source": [
    "promts = np.load('prompt_elegido.npy')"
   ]
  },
  {
   "cell_type": "code",
   "execution_count": 5,
   "metadata": {},
   "outputs": [
    {
     "data": {
      "text/plain": [
       "array([[19504., 19502., 19467., 19618., 19415., 19520., 19560., 19420.,\n",
       "        19540., 19487., 19549., 19470., 19534., 19520., 19456., 19582.,\n",
       "        19587., 19594., 19555., 19541.],\n",
       "       [    0.,     0.,     0.,     0.,     0.,     0.,     0.,     0.,\n",
       "            0.,     0.,     0.,     0.,     0.,     0.,     0.,     0.,\n",
       "            0.,     0.,     0.,     0.],\n",
       "       [ 1876.,  1863.,  1908.,  1840.,  1870.,  1921.,  1871.,  1871.,\n",
       "         1819.,  1857.,  2353.,  2447.,  2384.,  2413.,  2449.,  2457.,\n",
       "         2430.,  2414.,  2396.,  2416.],\n",
       "       [    0.,     0.,     0.,     0.,     0.,     0.,     0.,     0.,\n",
       "            0.,     0.,     0.,     0.,     0.,     0.,     0.,     0.,\n",
       "            0.,     0.,     0.,     0.],\n",
       "       [ 3005.,  3024.,  3033.,  2949.,  3123.,  2950.,  2988.,  3107.,\n",
       "         3047.,  3057.,  2476.,  2489.,  2495.,  2467.,  2487.,  2354.,\n",
       "         2404.,  2387.,  2473.,  2468.],\n",
       "       [    0.,     0.,     0.,     0.,     0.,     0.,     0.,     0.,\n",
       "            0.,     0.,     0.,     0.,     0.,     0.,     0.,     0.,\n",
       "            0.,     0.,     0.,     0.],\n",
       "       [    0.,     0.,     0.,     0.,     0.,     0.,     0.,     0.,\n",
       "            0.,     0.,     0.,     0.,     0.,     0.,     0.,     0.,\n",
       "            0.,     0.,     0.,     0.],\n",
       "       [  263.,   259.,   240.,   241.,   240.,   257.,   229.,   250.,\n",
       "          242.,   247.,   270.,   242.,   235.,   248.,   256.,   255.,\n",
       "          227.,   253.,   224.,   223.]])"
      ]
     },
     "execution_count": 5,
     "metadata": {},
     "output_type": "execute_result"
    }
   ],
   "source": [
    "promts"
   ]
  },
  {
   "cell_type": "code",
   "execution_count": 6,
   "metadata": {},
   "outputs": [
    {
     "data": {
      "text/plain": [
       "(array([[6., 1., 0., 0., 0., 0., 0., 0., 0., 1.],\n",
       "        [6., 1., 0., 0., 0., 0., 0., 0., 0., 1.],\n",
       "        [6., 1., 0., 0., 0., 0., 0., 0., 0., 1.],\n",
       "        [6., 1., 0., 0., 0., 0., 0., 0., 0., 1.],\n",
       "        [6., 1., 0., 0., 0., 0., 0., 0., 0., 1.],\n",
       "        [6., 1., 0., 0., 0., 0., 0., 0., 0., 1.],\n",
       "        [6., 1., 0., 0., 0., 0., 0., 0., 0., 1.],\n",
       "        [6., 1., 0., 0., 0., 0., 0., 0., 0., 1.],\n",
       "        [6., 1., 0., 0., 0., 0., 0., 0., 0., 1.],\n",
       "        [6., 1., 0., 0., 0., 0., 0., 0., 0., 1.],\n",
       "        [5., 2., 0., 0., 0., 0., 0., 0., 0., 1.],\n",
       "        [5., 2., 0., 0., 0., 0., 0., 0., 0., 1.],\n",
       "        [5., 2., 0., 0., 0., 0., 0., 0., 0., 1.],\n",
       "        [5., 2., 0., 0., 0., 0., 0., 0., 0., 1.],\n",
       "        [5., 2., 0., 0., 0., 0., 0., 0., 0., 1.],\n",
       "        [5., 2., 0., 0., 0., 0., 0., 0., 0., 1.],\n",
       "        [5., 2., 0., 0., 0., 0., 0., 0., 0., 1.],\n",
       "        [5., 2., 0., 0., 0., 0., 0., 0., 0., 1.],\n",
       "        [5., 2., 0., 0., 0., 0., 0., 0., 0., 1.],\n",
       "        [5., 2., 0., 0., 0., 0., 0., 0., 0., 1.]]),\n",
       " array([    0. ,  1961.8,  3923.6,  5885.4,  7847.2,  9809. , 11770.8,\n",
       "        13732.6, 15694.4, 17656.2, 19618. ]),\n",
       " <a list of 20 BarContainer objects>)"
      ]
     },
     "execution_count": 6,
     "metadata": {},
     "output_type": "execute_result"
    },
    {
     "data": {
      "image/png": "[encoded data removed]",
      "text/plain": [
       "<Figure size 640x480 with 1 Axes>"
      ]
     },
     "metadata": {},
     "output_type": "display_data"
    }
   ],
   "source": [
    "plt.hist(promts)"
   ]
  },
  {
   "cell_type": "code",
   "execution_count": 27,
   "metadata": {},
   "outputs": [
    {
     "data": {
      "text/plain": [
       "array([19504.,     0.,  1876.,     0.,  3005.,     0.,     0.,   263.])"
      ]
     },
     "execution_count": 27,
     "metadata": {},
     "output_type": "execute_result"
    }
   ],
   "source": [
    "promts[:,0]"
   ]
  },
  {
   "cell_type": "code",
   "execution_count": 34,
   "metadata": {},
   "outputs": [
    {
     "data": {
      "text/plain": [
       "<matplotlib.collections.PathCollection at 0x147932790>"
      ]
     },
     "execution_count": 34,
     "metadata": {},
     "output_type": "execute_result"
    },
    {
     "data": {
      "image/png": "[encoded data removed]",
      "text/plain": [
       "<Figure size 640x480 with 1 Axes>"
      ]
     },
     "metadata": {},
     "output_type": "display_data"
    }
   ],
   "source": [
    "plt.scatter(np.arange(0, 8), promts[:, 0])\n",
    "plt.scatter(np.arange(0, 8), promts[:, 15])"
   ]
  },
  {
   "cell_type": "code",
   "execution_count": 41,
   "metadata": {},
   "outputs": [],
   "source": [
    "def random_drop(label_prob, point_prob, bbox_prob):\n",
    "    prompts = [\n",
    "        0,#(\"point_coords\", \"point_labels\", \"boxes\"),  # labels\n",
    "        1,#(\"labels\", \"boxes\"),  # points\n",
    "        2,#(\"labels\", \"point_coords\", \"point_labels\"),  # bbox,\n",
    "        3,#(\"boxes\"),  # labels + points\n",
    "        4,#(\"point_coords\", \"point_labels\"),  # labels + bbox\n",
    "        5,#(),  # labels + points + bbox\n",
    "        6,#(\"labels\"),  # point + bbox\n",
    "        7,#(\"labels\", \"point_coords\", \"point_labels\", \"boxes\"),  # no prompts\n",
    "    ]\n",
    "    probabilities = [\n",
    "        label_prob,\n",
    "        point_prob,\n",
    "        bbox_prob,\n",
    "        label_prob * point_prob,\n",
    "        label_prob * bbox_prob,\n",
    "        label_prob * point_prob * bbox_prob,\n",
    "        point_prob * bbox_prob,\n",
    "        label_prob * point_prob * bbox_prob,\n",
    "    ]\n",
    "\n",
    "    key_drop = random.choices(prompts, weights=probabilities, k=1)\n",
    "\n",
    "    return key_drop"
   ]
  },
  {
   "cell_type": "code",
   "execution_count": 54,
   "metadata": {},
   "outputs": [],
   "source": [
    "label_prob = 0.5\n",
    "point_prob = 0.5\n",
    "bbox_prob = 0.5\n",
    "promt_acc = np.zeros((1,8))\n",
    "for i in range(100000):\n",
    "    key_drop = random_drop(label_prob, point_prob, bbox_prob)\n",
    "    promt_acc[0, key_drop[0]] += 1"
   ]
  },
  {
   "cell_type": "code",
   "execution_count": 59,
   "metadata": {},
   "outputs": [
    {
     "data": {
      "text/plain": [
       "array([[19504., 19502., 19467., 19618., 19415., 19520., 19560., 19420.,\n",
       "        19540., 19487., 19549., 19470., 19534., 19520., 19456., 19582.,\n",
       "        19587., 19594., 19555., 19541.],\n",
       "       [    0.,     0.,     0.,     0.,     0.,     0.,     0.,     0.,\n",
       "            0.,     0.,     0.,     0.,     0.,     0.,     0.,     0.,\n",
       "            0.,     0.,     0.,     0.],\n",
       "       [ 1876.,  1863.,  1908.,  1840.,  1870.,  1921.,  1871.,  1871.,\n",
       "         1819.,  1857.,  2353.,  2447.,  2384.,  2413.,  2449.,  2457.,\n",
       "         2430.,  2414.,  2396.,  2416.],\n",
       "       [    0.,     0.,     0.,     0.,     0.,     0.,     0.,     0.,\n",
       "            0.,     0.,     0.,     0.,     0.,     0.,     0.,     0.,\n",
       "            0.,     0.,     0.,     0.],\n",
       "       [ 3005.,  3024.,  3033.,  2949.,  3123.,  2950.,  2988.,  3107.,\n",
       "         3047.,  3057.,  2476.,  2489.,  2495.,  2467.,  2487.,  2354.,\n",
       "         2404.,  2387.,  2473.,  2468.],\n",
       "       [    0.,     0.,     0.,     0.,     0.,     0.,     0.,     0.,\n",
       "            0.,     0.,     0.,     0.,     0.,     0.,     0.,     0.,\n",
       "            0.,     0.,     0.,     0.],\n",
       "       [    0.,     0.,     0.,     0.,     0.,     0.,     0.,     0.,\n",
       "            0.,     0.,     0.,     0.,     0.,     0.,     0.,     0.,\n",
       "            0.,     0.,     0.,     0.],\n",
       "       [  263.,   259.,   240.,   241.,   240.,   257.,   229.,   250.,\n",
       "          242.,   247.,   270.,   242.,   235.,   248.,   256.,   255.,\n",
       "          227.,   253.,   224.,   223.]])"
      ]
     },
     "execution_count": 59,
     "metadata": {},
     "output_type": "execute_result"
    }
   ],
   "source": [
    "promts"
   ]
  },
  {
   "cell_type": "code",
   "execution_count": null,
   "metadata": {},
   "outputs": [],
   "source": []
  }
 ],
 "metadata": {
  "kernelspec": {
   "display_name": "sam",
   "language": "python",
   "name": "python3"
  },
  "language_info": {
   "codemirror_mode": {
    "name": "ipython",
    "version": 3
   },
   "file_extension": ".py",
   "mimetype": "text/x-python",
   "name": "python",
   "nbconvert_exporter": "python",
   "pygments_lexer": "ipython3",
   "version": "3.11.0"
  }
 },
 "nbformat": 4,
 "nbformat_minor": 2
}
